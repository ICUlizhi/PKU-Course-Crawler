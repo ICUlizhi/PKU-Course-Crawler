{
 "cells": [
  {
   "cell_type": "markdown",
   "metadata": {},
   "source": [
    "# PKU Course Crawler\n",
    "\n",
    "北京大学课程信息爬取工具（Python脚本+Jupyter Notebook版本）\n",
    "\n",
    "## 特性\n",
    "\n",
    "- 🕸️ 基于Selenium的网页自动化爬取\n",
    "- 🔐 北大门户账号登录, 无外泄风险\n",
    "- ⚙️ 可配置学年/院系/学期/学生类型过滤\n",
    "- 📈 Notebook版本含数据处理和分析功能\n",
    "- 🤖 自动管理ChromeDriver\n",
    "\n",
    "## 1. 爬虫部分\n",
    "本部分将爬下来的内容导入到 '课程数据汇总.xlsx'\n",
    "#### 包导入"
   ]
  },
  {
   "cell_type": "code",
   "execution_count": 25,
   "metadata": {},
   "outputs": [],
   "source": [
    "from pypinyin import pinyin, Style\n",
    "import requests\n",
    "from bs4 import BeautifulSoup\n",
    "from selenium import webdriver\n",
    "from selenium.webdriver.common.by import By\n",
    "from selenium.webdriver.common.keys import Keys\n",
    "from selenium.webdriver.common.action_chains import ActionChains\n",
    "from selenium.webdriver.support.ui import WebDriverWait\n",
    "from selenium.webdriver.support import expected_conditions as EC\n",
    "import time\n",
    "from selenium import webdriver\n",
    "from selenium.webdriver.chrome.service import Service\n",
    "from webdriver_manager.chrome import ChromeDriverManager\n",
    "import os\n",
    "import re\n",
    "import json\n",
    "import pandas as pd\n",
    "from selenium.common.exceptions import TimeoutException, StaleElementReferenceException"
   ]
  },
  {
   "cell_type": "markdown",
   "metadata": {},
   "source": [
    "#### 设置加载"
   ]
  },
  {
   "cell_type": "code",
   "execution_count": 26,
   "metadata": {},
   "outputs": [],
   "source": [
    "with open(\"setting.json\", \"r\", encoding=\"utf-8\") as f:\n",
    "    loaded_data = json.load(f)  "
   ]
  },
  {
   "cell_type": "markdown",
   "metadata": {},
   "source": [
    "#### 登录, 打开课程查询页面"
   ]
  },
  {
   "cell_type": "code",
   "execution_count": 27,
   "metadata": {},
   "outputs": [],
   "source": [
    "\n",
    "driver = webdriver.Chrome(service=Service(ChromeDriverManager().install()))\n",
    "driver.get(\"https://iaaa.pku.edu.cn/iaaa/oauth.jsp?appID=portal2017&appName=%E5%8C%97%E4%BA%AC%E5%A4%A7%E5%AD%A6%E6%A0%A1%E5%86%85%E4%BF%A1%E6%81%AF%E9%97%A8%E6%88%B7%E6%96%B0%E7%89%88&redirectUrl=https%3A%2F%2Fportal.pku.edu.cn%2Fportal2017%2FssoLogin.do\")\n",
    "wait = WebDriverWait(driver, 10)\n",
    "\n",
    "username_field = wait.until(EC.presence_of_element_located((By.ID, 'user_name'))) \n",
    "password_field = wait.until(EC.presence_of_element_located((By.ID, 'password')))  \n",
    "username_field.send_keys(loaded_data[\"username\"])  \n",
    "password_field.send_keys(loaded_data[\"password\"])  \n",
    "password_field.send_keys(Keys.RETURN)\n",
    "\n",
    "login_link = wait.until(EC.presence_of_element_located((By.ID, 'courseQuery')))\n",
    "login_link.click()\n",
    "time.sleep(2)  \n",
    "driver.switch_to.window(driver.window_handles[-1])  \n",
    "\n",
    "year_input = wait.until(EC.visibility_of_element_located(\n",
    "    (By.CSS_SELECTOR, 'input[ng-model=\"year\"]')\n",
    "))"
   ]
  },
  {
   "cell_type": "code",
   "execution_count": 28,
   "metadata": {},
   "outputs": [],
   "source": [
    "\n",
    "\n",
    "# 修改后的安全获取表格数据函数\n",
    "def get_table_data_safely(driver):\n",
    "    \"\"\"安全获取表格数据的函数，包含多重保险机制\"\"\"\n",
    "    try:\n",
    "        # 使用改善后的等待条件\n",
    "        WebDriverWait(driver, 3).until(\n",
    "            EC.presence_of_element_located((By.CSS_SELECTOR, \"table.row-border-table\"))\n",
    "        )\n",
    "        # 检查是否有数据行（包含表头时至少2行）\n",
    "        WebDriverWait(driver, 3).until(\n",
    "            lambda d: len(d.find_elements(By.CSS_SELECTOR, \"table.row-border-table tr\")) >= 2\n",
    "        )\n",
    "    except TimeoutException:\n",
    "        return []  # 没有有效数据时提前返回\n",
    "\n",
    "    try:\n",
    "        # 一次性获取整个表格的HTML（原子操作）\n",
    "        table_html = driver.find_element(By.CSS_SELECTOR, \"table.row-border-table\").get_attribute(\"outerHTML\")\n",
    "    except StaleElementReferenceException:\n",
    "        return []  # 如果表格已消失返回空\n",
    "\n",
    "    # 使用BeautifulSoup解析静态HTML\n",
    "    soup = BeautifulSoup(table_html, \"html.parser\")\n",
    "    rows = soup.select(\"tr\")[1:]  # 跳过表头\n",
    "\n",
    "    table_data = []\n",
    "    for row in rows:\n",
    "        cols = row.find_all(\"td\")\n",
    "        # 直接获取文本内容，无需与浏览器元素交互\n",
    "        table_data.append([col.get_text(strip=True) for col in cols])\n",
    "    \n",
    "    return table_data\n",
    "\n",
    "\n",
    "def safe_click(element):\n",
    "    \"\"\"更稳定的点击方式\"\"\"\n",
    "    try:\n",
    "        element.click()\n",
    "    except WebDriverException:\n",
    "        driver.execute_script(\"arguments[0].click();\", element)"
   ]
  },
  {
   "cell_type": "markdown",
   "metadata": {},
   "source": [
    "#### 遍历收集数据"
   ]
  },
  {
   "cell_type": "code",
   "execution_count": 29,
   "metadata": {},
   "outputs": [],
   "source": [
    "all_data = []\n",
    "\n",
    "for term in loaded_data[\"year\"]:\n",
    "    year_input.clear()\n",
    "    year_input.send_keys(term)\n",
    "    time.sleep(1)\n",
    "    \n",
    "    dept_select = WebDriverWait(driver, 10).until(\n",
    "        EC.presence_of_element_located((By.CSS_SELECTOR, \"select.cell-sel[ng-model='dept']\"))\n",
    "    )\n",
    "    all_depts = dept_select.find_elements(By.TAG_NAME, \"option\")[1:]\n",
    "\n",
    "    # 如果 loaded_data[\"dept\"] 为空，则遍历所有院系, 否则只遍历指定院系\n",
    "    for dept in all_depts:\n",
    "        if loaded_data[\"dept\"] and dept.text not in loaded_data[\"dept\"]:\n",
    "            continue\n",
    "        dept_name = dept.text\n",
    "        dept.click()\n",
    "        time.sleep(1) \n",
    "        table_select = WebDriverWait(driver, 10).until(\n",
    "            EC.presence_of_element_located((By.CSS_SELECTOR, \"select.cell-sel[ng-model='tableType']\"))\n",
    "        )\n",
    "        all_tables = table_select.find_elements(By.TAG_NAME, \"option\")[1:]\n",
    "        # 如果 loaded_data[\"stu\"] 为空，则遍历所有表格, 否则只遍历指定表格\n",
    "        for table in all_tables:\n",
    "            if loaded_data[\"stu\"] and table.text not in loaded_data[\"stu\"]:\n",
    "                continue\n",
    "            table_name = table.text\n",
    "            table.click()\n",
    "            time.sleep(1)\n",
    "            term_select = WebDriverWait(driver, 10).until(\n",
    "                EC.presence_of_element_located((By.CSS_SELECTOR, \"select.cell-sel[ng-model='term']\"))\n",
    "            )\n",
    "            all_terms = term_select.find_elements(By.TAG_NAME, \"option\")[1:]\n",
    "            # 如果 loaded_data[\"term\"] 为空，则遍历所有内部学期, 否则只遍历指定内部学期\n",
    "            for inner_term in all_terms:\n",
    "                if loaded_data[\"term\"] and inner_term.text not in loaded_data[\"term\"]:\n",
    "                    continue\n",
    "                inner_term_name = inner_term.text\n",
    "                inner_term.click()\n",
    "                time.sleep(1)\n",
    "                \n",
    "                # 点击查询按钮\n",
    "                search_button = WebDriverWait(driver, 10).until(\n",
    "                    EC.element_to_be_clickable((By.CSS_SELECTOR, \"input.cell-btn[ng-click='retrCourseTable()']\"))\n",
    "                )\n",
    "                search_button.click()\n",
    "                time.sleep(1)\n",
    "                \n",
    "                # 等待表格加载完成\n",
    "                try:\n",
    "                    table_data = get_table_data_safely(driver)\n",
    "                except StaleElementReferenceException:\n",
    "                    # 发生异常时重试一次\n",
    "                    table_data = get_table_data_safely(driver)\n",
    "                    \n",
    "                if not table_data:\n",
    "                    continue\n",
    "                # 处理已缓存的数据\n",
    "                for col_texts in table_data:\n",
    "                    course_data = {\n",
    "                        \"学年学期\": term,\n",
    "                        \"院系\": dept_name,\n",
    "                        \"表格类型\": table_name,\n",
    "                        \"内部学期\": inner_term_name,\n",
    "                        \"课程名\": col_texts[0] if len(col_texts) > 0 else \"\",\n",
    "                        \"课程类别\": col_texts[1] if len(col_texts) > 1 else \"\",\n",
    "                        \"参考学分\": col_texts[2] if len(col_texts) > 2 else \"\",\n",
    "                        \"班号\": col_texts[3] if len(col_texts) > 3 else \"\",\n",
    "                        \"授课教师\": col_texts[4] if len(col_texts) > 4 else \"\",\n",
    "                        \"起止周\": col_texts[5] if len(col_texts) > 5 else \"\",\n",
    "                        \"上课时间\": col_texts[6] if len(col_texts) > 6 else \"\",\n",
    "                        \"备注\": col_texts[7] if len(col_texts) > 7 else \"\"\n",
    "                    }\n",
    "                    all_data.append(course_data)\n",
    "df = pd.DataFrame(all_data)\n",
    "\n"
   ]
  },
  {
   "cell_type": "markdown",
   "metadata": {},
   "source": [
    "#### 保存为表格文件"
   ]
  },
  {
   "cell_type": "code",
   "execution_count": 30,
   "metadata": {},
   "outputs": [
    {
     "name": "stdout",
     "output_type": "stream",
     "text": [
      "数据收集完成，已保存到'课程数据汇总.xlsx'\n"
     ]
    }
   ],
   "source": [
    "df.to_excel(\"课程数据汇总.xlsx\", index=False)\n",
    "# df.to_csv(\"课程数据汇总.csv\", index=False, encoding='utf-8-sig')\n",
    "print(\"数据收集完成，已保存到'课程数据汇总.xlsx'\")\n"
   ]
  }
 ],
 "metadata": {
  "kernelspec": {
   "display_name": "Python 3",
   "language": "python",
   "name": "python3"
  },
  "language_info": {
   "codemirror_mode": {
    "name": "ipython",
    "version": 3
   },
   "file_extension": ".py",
   "mimetype": "text/x-python",
   "name": "python",
   "nbconvert_exporter": "python",
   "pygments_lexer": "ipython3",
   "version": "3.8.10"
  }
 },
 "nbformat": 4,
 "nbformat_minor": 2
}
